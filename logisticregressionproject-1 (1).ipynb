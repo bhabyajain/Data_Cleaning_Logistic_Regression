{
 "cells": [
  {
   "cell_type": "code",
   "execution_count": 1,
   "metadata": {},
   "outputs": [],
   "source": [
    "from sklearn.linear_model import LogisticRegression\n",
    "import numpy as np\n",
    "import pandas as pd"
   ]
  },
  {
   "cell_type": "code",
   "execution_count": 2,
   "metadata": {},
   "outputs": [
    {
     "name": "stdout",
     "output_type": "stream",
     "text": [
      "(668, 11)\n",
      "Index(['Pclass', 'Age', 'SibSp', 'Parch', 'Fare', 'Gender', 'Emb', 'Safe'], dtype='object')\n",
      "Index(['Pclass', 'Age', 'SibSp', 'Parch', 'Fare', 'Gender', 'Emb'], dtype='object')\n"
     ]
    }
   ],
   "source": [
    "train_data=pd.read_csv(\"trp.csv\",delimiter=\",\")\n",
    "test_data=pd.read_csv(\"ttp.csv\",delimiter=\",\")\n",
    "print(train_data.shape)\n",
    "del train_data[\"Name\"]\n",
    "def f(s):\n",
    "    if s==\"male\":\n",
    "        return 0\n",
    "    else:\n",
    "        return 1\n",
    "train_data[\"Gender\"]=train_data.Sex.apply(f)\n",
    "del train_data[\"Sex\"]\n",
    "def g(t):\n",
    "    if t=='S':\n",
    "        return 1\n",
    "    elif t=='C':\n",
    "        return 0\n",
    "    else:\n",
    "        return 2\n",
    "train_data[\"Emb\"]=train_data.Embarked.apply(g)\n",
    "del train_data[\"Embarked\"]\n",
    "del train_data[\"Ticket\"]\n",
    "del train_data[\"Cabin\"]\n",
    "\n",
    "def e(a):\n",
    "    return a\n",
    "train_data[\"Safe\"]=train_data.Survived.apply(e)\n",
    "del train_data[\"Survived\"]\n",
    "print(train_data.columns)\n",
    "del test_data[\"Name\"]\n",
    "def h(s):\n",
    "    if s==\"male\":\n",
    "        return 0\n",
    "    else:\n",
    "        return 1\n",
    "test_data[\"Gender\"]=test_data.Sex.apply(h)\n",
    "del test_data[\"Sex\"]\n",
    "def l(t):\n",
    "    if t=='S':\n",
    "        return 1\n",
    "    elif t=='C':\n",
    "        return 0\n",
    "    else:\n",
    "        return 2\n",
    "test_data[\"Emb\"]=test_data.Embarked.apply(l)\n",
    "del test_data[\"Embarked\"]\n",
    "del test_data[\"Ticket\"]\n",
    "del test_data[\"Cabin\"]\n",
    "print(test_data.columns)"
   ]
  },
  {
   "cell_type": "code",
   "execution_count": 3,
   "metadata": {},
   "outputs": [],
   "source": [
    "\n",
    "#print(train_data.isnull().sum())\n",
    "train_data.Age.fillna(train_data.Age.mean(),inplace=True)\n",
    "test_data.Age.fillna(test_data.Age.mean(),inplace=True)\n",
    "#print(test_data)\n",
    "train_data.to_csv('logis.csv')\n",
    "test_data.to_csv('logis_test.csv')"
   ]
  },
  {
   "cell_type": "code",
   "execution_count": 5,
   "metadata": {},
   "outputs": [
    {
     "data": {
      "text/plain": [
       "LogisticRegression(C=1.0, class_weight=None, dual=False, fit_intercept=True,\n",
       "          intercept_scaling=1, max_iter=1000, multi_class='multinomial',\n",
       "          n_jobs=1, penalty='l2', random_state=None, solver='lbfgs',\n",
       "          tol=1e-05, verbose=0, warm_start=False)"
      ]
     },
     "execution_count": 5,
     "metadata": {},
     "output_type": "execute_result"
    }
   ],
   "source": [
    "train=np.genfromtxt(\"logis.csv\",delimiter=\",\")\n",
    "test=np.genfromtxt(\"logis_test.csv\",delimiter=\",\")[1:,1:]\n",
    "x_train=train[1:,1:8]\n",
    "y_train=train[1:,8]\n",
    "#print(test)\n",
    "clf=LogisticRegression(solver='lbfgs',max_iter=1000,multi_class='multinomial',tol=0.00001)\n",
    "#print(train[:,8])\n",
    "clf.fit(x_train,y_train)\n",
    "#test.shape"
   ]
  },
  {
   "cell_type": "code",
   "execution_count": 6,
   "metadata": {},
   "outputs": [],
   "source": [
    "y_test=clf.predict(test)\n",
    "np.savetxt('logi.csv',y_test,delimiter=\",\")"
   ]
  }
 ],
 "metadata": {
  "kernelspec": {
   "display_name": "Python 3",
   "language": "python",
   "name": "python3"
  },
  "language_info": {
   "codemirror_mode": {
    "name": "ipython",
    "version": 3
   },
   "file_extension": ".py",
   "mimetype": "text/x-python",
   "name": "python",
   "nbconvert_exporter": "python",
   "pygments_lexer": "ipython3",
   "version": "3.6.4"
  }
 },
 "nbformat": 4,
 "nbformat_minor": 2
}
